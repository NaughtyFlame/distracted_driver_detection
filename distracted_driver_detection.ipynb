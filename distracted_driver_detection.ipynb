{
 "cells": [
  {
   "cell_type": "markdown",
   "metadata": {},
   "source": [
    "导入库"
   ]
  },
  {
   "cell_type": "code",
   "execution_count": 1,
   "metadata": {
    "collapsed": true
   },
   "outputs": [],
   "source": [
    "import os\n",
    "import glob\n",
    "import numpy as np\n",
    "import pandas as pd\n",
    "import matplotlib.pyplot as plt\n",
    "from tqdm import tqdm\n",
    "import math\n",
    "import time\n",
    "import datetime\n",
    "from sklearn.model_selection import train_test_split\n",
    "\n",
    "import cv2\n",
    "\n",
    "import h5py\n",
    "%matplotlib inline\n",
    "\n",
    "random_state = 424\n",
    "dataset_path = 'dataset'"
   ]
  },
  {
   "cell_type": "markdown",
   "metadata": {},
   "source": [
    "这个数据集是26位司机的各种样子的照片。所以我按照司机来划分训练集和验证集。"
   ]
  },
  {
   "cell_type": "code",
   "execution_count": 3,
   "metadata": {
    "collapsed": false
   },
   "outputs": [
    {
     "name": "stdout",
     "output_type": "stream",
     "text": [
      "['p002' 'p047']\n"
     ]
    }
   ],
   "source": [
    "# 读取csv文件\n",
    "dataset = pd.read_csv('dataset/driver_imgs_list.csv')\n",
    "\n",
    "# 随机选择两个司机作为测试集\n",
    "driver_id = dataset['subject'].unique()\n",
    "driver_id_test = np.random.choice(driver_id, 2)\n",
    "print(driver_id_test)\n",
    "\n",
    "# 组合路径\n",
    "dataset['path']=dataset[['classname', 'img']].apply(lambda x: '/'.join(x), axis=1)\n",
    "\n",
    "# 将路径转换成list格式\n",
    "train_path = dataset['path'].loc[~dataset['subject'].isin(driver_id_test)].tolist()\n",
    "test_path = dataset['path'].loc[dataset['subject'].isin(driver_id_test)].tolist()"
   ]
  },
  {
   "cell_type": "code",
   "execution_count": 4,
   "metadata": {
    "collapsed": false
   },
   "outputs": [
    {
     "name": "stderr",
     "output_type": "stream",
     "text": [
      "  0%|          | 1/20864 [00:00<1:06:08,  5.26it/s]"
     ]
    },
    {
     "name": "stdout",
     "output_type": "stream",
     "text": [
      "train dataset copy begain\n"
     ]
    },
    {
     "name": "stderr",
     "output_type": "stream",
     "text": [
      "100%|██████████| 20864/20864 [05:38<00:00, 61.60it/s] \n",
      "  5%|▌         | 82/1560 [00:00<00:01, 818.93it/s]"
     ]
    },
    {
     "name": "stdout",
     "output_type": "stream",
     "text": [
      "test dataset copy begain\n"
     ]
    },
    {
     "name": "stderr",
     "output_type": "stream",
     "text": [
      "100%|██████████| 1560/1560 [00:01<00:00, 925.78it/s]\n"
     ]
    }
   ],
   "source": [
    "import os\n",
    "import shutil\n",
    "\n",
    "\n",
    "if os.path.exists('dataset/train2'):\n",
    "    print('split dataset exist')\n",
    "else:\n",
    "    os.mkdir('dataset/train2')\n",
    "    os.mkdir('dataset/valid2')\n",
    "    for i in range(10):\n",
    "        os.mkdir('dataset/train2/c'+str(i))\n",
    "        os.mkdir('dataset/valid2/c'+str(i))\n",
    "    # 复制图片到新的数据集\n",
    "    if os.path.exists('dataset/train2'):\n",
    "        print('train dataset copy begain')\n",
    "        for filename in tqdm(train_path):\n",
    "            shutil.copyfile('dataset/train/'+filename, 'dataset/train2/'+filename)\n",
    "    if os.path.exists('dataset/valid2'):\n",
    "        print('test dataset copy begain')\n",
    "        for filename in tqdm(test_path):\n",
    "            shutil.copyfile('dataset/train/'+filename, 'dataset/valid2/'+filename)\n",
    "\n",
    "\n"
   ]
  },
  {
   "cell_type": "markdown",
   "metadata": {},
   "source": [
    "预训练模型模板"
   ]
  },
  {
   "cell_type": "code",
   "execution_count": 29,
   "metadata": {
    "collapsed": false
   },
   "outputs": [],
   "source": [
    "from keras.models import Sequential, Model\n",
    "from keras.applications import *\n",
    "from keras.layers import Dropout, Flatten, Dense, Input, GlobalAveragePooling2D\n",
    "from keras.layers.normalization import *\n",
    "from keras.optimizers import *\n",
    "from keras.preprocessing.image import *\n",
    "from keras.callbacks import ModelCheckpoint\n",
    "from keras.callbacks import History\n",
    "\n",
    "train_dir = 'dataset/train2'  # 训练集数据\n",
    "val_dir = 'dataset/valid2' # 验证集数据\n",
    "nb_classes = len(glob.glob(train_dir + \"/*\"))  # 分类数\n",
    "\n",
    "\n",
    "batch_size = 128\n",
    "epochs = 5\n",
    "# def VGG16_model(X_train, y_train, X_test, y_test):\n",
    "def run_a_model(BASE_MODEL,input_shape, fine_tune_layer, preprocessing=None, model_name_option=''):\n",
    "    input_height = input_shape[0]\n",
    "    input_width = input_shape[1]\n",
    "    input_tensor = Input((input_height, input_width, 3))\n",
    "    base_model = BASE_MODEL(input_tensor=Input((input_height, input_width, 3)),\n",
    "                            weights='imagenet', \n",
    "                            include_top=False, \n",
    "                            input_shape=(input_height, input_width, 3)\n",
    "                           )\n",
    "    \n",
    "    \n",
    "    x = input_tensor\n",
    "    x = GlobalAveragePooling2D()(base_model.output)\n",
    "    x = BatchNormalization()(x)\n",
    "    x = Dense(10, activation='softmax')(x)\n",
    "    model = Model(base_model.input, x)    \n",
    "    print(\"total layer count {}\".format(len(base_model.layers)))\n",
    "    \n",
    "    for i in range(fine_tune_layer):\n",
    "        model.layers[i].trainable = False\n",
    "    \n",
    "    train_gen = ImageDataGenerator(\n",
    "        rotation_range=10.,\n",
    "        width_shift_range=0.05,\n",
    "        height_shift_range=0.05,\n",
    "        shear_range=0.1,\n",
    "        zoom_range=0.1,\n",
    "        preprocessing_function=preprocessing\n",
    "    )\n",
    "    \n",
    "    test_gen = ImageDataGenerator(\n",
    "        preprocessing_function=preprocessing\n",
    "    )\n",
    "    \n",
    "    train_generator = train_gen.flow_from_directory(train_dir, (input_height, input_width), \n",
    "                                                    shuffle=True, batch_size=batch_size, class_mode='categorical')\n",
    "    test_generator = test_gen.flow_from_directory(val_dir, (input_height, input_width), \n",
    "                                                  shuffle=True, batch_size=batch_size, class_mode='categorical')\n",
    "    \n",
    "    \n",
    "    steps_train_sample = train_generator.samples // batch_size + 1\n",
    "    steps_valid_sample = test_generator.samples // batch_size + 1\n",
    "    \n",
    "    \n",
    "    history1 = History()\n",
    "    model.compile(loss='categorical_crossentropy', optimizer='adam', metrics=['accuracy'])\n",
    "\n",
    "    model.fit_generator(\n",
    "        train_generator,\n",
    "        steps_per_epoch=steps_train_sample,\n",
    "        epochs=5,\n",
    "        validation_data=test_generator,\n",
    "        validation_steps=steps_valid_sample,\n",
    "        callbacks=[history1]\n",
    "    )\n",
    "    history2 = History()\n",
    "    model.compile(loss='categorical_crossentropy', optimizer=SGD(lr=1e-4, momentum=0.9), metrics=['accuracy'])\n",
    "    model.fit_generator(\n",
    "        train_generator,\n",
    "        steps_per_epoch=steps_train_sample,\n",
    "        epochs=5,\n",
    "        validation_data=test_generator,\n",
    "        validation_steps=steps_valid_sample,\n",
    "        callbacks=[history2]\n",
    "    )\n",
    "    \n",
    "        \n",
    "    \n",
    "    model.save(\"models/model_{}{}.h5\".format(BASE_MODEL.func_name, model_name_option))\n",
    "\n",
    "    return model, history1, history2\n"
   ]
  },
  {
   "cell_type": "code",
   "execution_count": 36,
   "metadata": {
    "collapsed": true
   },
   "outputs": [],
   "source": [
    "def show_loss_plot(doc1, doc2):    \n",
    "    # summarize history for loss\n",
    "    plt.plot(doc1.history['loss'] + doc1.history['loss'])\n",
    "    plt.plot(doc1.history['val_loss'] + doc2.history['val_loss'])\n",
    "    plt.title('model loss')\n",
    "    plt.ylabel('loss')\n",
    "    plt.xlabel('epoch')\n",
    "    plt.legend(['train', 'test'], loc='upper left')\n",
    "    plt.show()"
   ]
  },
  {
   "cell_type": "markdown",
   "metadata": {},
   "source": [
    "单模型预测"
   ]
  },
  {
   "cell_type": "code",
   "execution_count": 4,
   "metadata": {
    "collapsed": false
   },
   "outputs": [
    {
     "name": "stdout",
     "output_type": "stream",
     "text": [
      "total layer count 19\n",
      "Found 20864 images belonging to 10 classes.\n",
      "Found 1560 images belonging to 10 classes.\n",
      "Epoch 1/5\n",
      "164/164 [==============================] - 606s - loss: 0.2285 - acc: 0.9337 - val_loss: 1.4169 - val_acc: 0.6308\n",
      "Epoch 2/5\n",
      "164/164 [==============================] - 343s - loss: 0.0391 - acc: 0.9888 - val_loss: 1.9820 - val_acc: 0.5936\n",
      "Epoch 3/5\n",
      "164/164 [==============================] - 343s - loss: 0.0269 - acc: 0.9919 - val_loss: 1.5728 - val_acc: 0.6904\n",
      "Epoch 4/5\n",
      "164/164 [==============================] - 343s - loss: 0.0134 - acc: 0.9960 - val_loss: 2.7252 - val_acc: 0.6090\n",
      "Epoch 5/5\n",
      "164/164 [==============================] - 343s - loss: 0.0101 - acc: 0.9966 - val_loss: 2.1233 - val_acc: 0.6282\n",
      "Epoch 1/5\n",
      "164/164 [==============================] - 344s - loss: 0.0133 - acc: 0.9962 - val_loss: 0.6038 - val_acc: 0.8821\n",
      "Epoch 2/5\n",
      "164/164 [==============================] - 342s - loss: 0.0119 - acc: 0.9971 - val_loss: 0.5305 - val_acc: 0.8885\n",
      "Epoch 3/5\n",
      "164/164 [==============================] - 343s - loss: 0.0092 - acc: 0.9971 - val_loss: 0.5107 - val_acc: 0.8872\n",
      "Epoch 4/5\n",
      "164/164 [==============================] - 343s - loss: 0.0092 - acc: 0.9970 - val_loss: 0.5410 - val_acc: 0.8756\n",
      "Epoch 5/5\n",
      "164/164 [==============================] - 342s - loss: 0.0077 - acc: 0.9979 - val_loss: 0.5079 - val_acc: 0.8846\n"
     ]
    }
   ],
   "source": [
    "# VGG16 15 fine tune layer \n",
    "vgg16 = run_a_model(VGG16, (224, 224), 15, model_name_option='_BN_15_SGD_10epoche')"
   ]
  },
  {
   "cell_type": "code",
   "execution_count": 30,
   "metadata": {
    "collapsed": false
   },
   "outputs": [
    {
     "name": "stdout",
     "output_type": "stream",
     "text": [
      "total layer count 175\n",
      "Found 20864 images belonging to 10 classes.\n",
      "Found 1560 images belonging to 10 classes.\n",
      "Epoch 1/5\n",
      "164/164 [==============================] - 283s - loss: 0.2799 - acc: 0.9181 - val_loss: 0.7798 - val_acc: 0.7404\n",
      "Epoch 2/5\n",
      "164/164 [==============================] - 268s - loss: 0.0578 - acc: 0.9819 - val_loss: 1.2535 - val_acc: 0.6365\n",
      "Epoch 3/5\n",
      "164/164 [==============================] - 267s - loss: 0.0399 - acc: 0.9875 - val_loss: 1.1666 - val_acc: 0.7276\n",
      "Epoch 4/5\n",
      "164/164 [==============================] - 268s - loss: 0.0301 - acc: 0.9900 - val_loss: 2.1876 - val_acc: 0.5551\n",
      "Epoch 5/5\n",
      "164/164 [==============================] - 268s - loss: 0.0245 - acc: 0.9921 - val_loss: 1.9142 - val_acc: 0.6308\n",
      "Epoch 1/5\n",
      "164/164 [==============================] - 283s - loss: 0.0303 - acc: 0.9907 - val_loss: 1.7371 - val_acc: 0.6603\n",
      "Epoch 2/5\n",
      "164/164 [==============================] - 269s - loss: 0.0272 - acc: 0.9928 - val_loss: 1.6570 - val_acc: 0.6622\n",
      "Epoch 3/5\n",
      "164/164 [==============================] - 268s - loss: 0.0259 - acc: 0.9925 - val_loss: 1.5750 - val_acc: 0.6667\n",
      "Epoch 4/5\n",
      "164/164 [==============================] - 267s - loss: 0.0245 - acc: 0.9923 - val_loss: 1.6282 - val_acc: 0.6654\n",
      "Epoch 5/5\n",
      "164/164 [==============================] - 269s - loss: 0.0236 - acc: 0.9930 - val_loss: 1.5230 - val_acc: 0.6776\n"
     ]
    }
   ],
   "source": [
    "# ResNet50 155 finetune layer with BN 10 epoches\n",
    "resnet50, resnet_h1,resnet_h2 = run_a_model(ResNet50, (224, 224), 155, model_name_option='_BN_155_SGD_10epoche')"
   ]
  },
  {
   "cell_type": "code",
   "execution_count": 37,
   "metadata": {
    "collapsed": false
   },
   "outputs": [
    {
     "data": {
      "image/png": "[encoded data removed]",
      "text/plain": [
       "<matplotlib.figure.Figure at 0x7f20206b2890>"
      ]
     },
     "metadata": {},
     "output_type": "display_data"
    }
   ],
   "source": [
    "show_loss_plot(resnet_h1, resnet_h2)"
   ]
  },
  {
   "cell_type": "code",
   "execution_count": 38,
   "metadata": {
    "collapsed": false
   },
   "outputs": [
    {
     "name": "stdout",
     "output_type": "stream",
     "text": [
      "total layer count 311\n",
      "Found 20864 images belonging to 10 classes.\n",
      "Found 1560 images belonging to 10 classes.\n",
      "Epoch 1/5\n",
      "164/164 [==============================] - 476s - loss: 0.2441 - acc: 0.9346 - val_loss: 0.4646 - val_acc: 0.8218\n",
      "Epoch 2/5\n",
      "164/164 [==============================] - 466s - loss: 0.0368 - acc: 0.9878 - val_loss: 0.3760 - val_acc: 0.8712\n",
      "Epoch 3/5\n",
      "164/164 [==============================] - 466s - loss: 0.0262 - acc: 0.9921 - val_loss: 0.7321 - val_acc: 0.7891\n",
      "Epoch 4/5\n",
      "164/164 [==============================] - 466s - loss: 0.0240 - acc: 0.9928 - val_loss: 0.5207 - val_acc: 0.8429\n",
      "Epoch 5/5\n",
      "164/164 [==============================] - 466s - loss: 0.0179 - acc: 0.9941 - val_loss: 1.1483 - val_acc: 0.7647\n",
      "Epoch 1/5\n",
      "164/164 [==============================] - 468s - loss: 0.0222 - acc: 0.9944 - val_loss: 0.5619 - val_acc: 0.8673\n",
      "Epoch 2/5\n",
      "164/164 [==============================] - 463s - loss: 0.0160 - acc: 0.9951 - val_loss: 0.4848 - val_acc: 0.8801\n",
      "Epoch 3/5\n",
      "164/164 [==============================] - 463s - loss: 0.0140 - acc: 0.9961 - val_loss: 0.5562 - val_acc: 0.8699\n",
      "Epoch 4/5\n",
      "164/164 [==============================] - 463s - loss: 0.0155 - acc: 0.9954 - val_loss: 0.5015 - val_acc: 0.8712\n",
      "Epoch 5/5\n",
      "164/164 [==============================] - 462s - loss: 0.0124 - acc: 0.9961 - val_loss: 0.4891 - val_acc: 0.8763\n"
     ]
    }
   ],
   "source": [
    "# InceptionV3 200 finetune layer with BN 10 epoches\n",
    "inceptionv3, inceptionv3_h1, inceptionv3_h2= run_a_model(InceptionV3, (299, 299), 200, \n",
    "                          preprocessing=inception_v3.preprocess_input, model_name_option='_BN_200_SGD_10epoche')"
   ]
  },
  {
   "cell_type": "code",
   "execution_count": 39,
   "metadata": {
    "collapsed": false
   },
   "outputs": [
    {
     "data": {
      "image/png": "[encoded data removed]",
      "text/plain": [
       "<matplotlib.figure.Figure at 0x7f20205dcf10>"
      ]
     },
     "metadata": {},
     "output_type": "display_data"
    }
   ],
   "source": [
    "show_loss_plot(inceptionv3_h1, inceptionv3_h2)"
   ]
  },
  {
   "cell_type": "markdown",
   "metadata": {},
   "source": [
    "优秀模型继续优化"
   ]
  },
  {
   "cell_type": "code",
   "execution_count": 6,
   "metadata": {
    "collapsed": false
   },
   "outputs": [
    {
     "name": "stdout",
     "output_type": "stream",
     "text": [
      "total layer count 19\n",
      "Found 20864 images belonging to 10 classes.\n",
      "Found 1560 images belonging to 10 classes.\n",
      "Epoch 1/5\n",
      "164/164 [==============================] - 385s - loss: 0.2480 - acc: 0.9271 - val_loss: 1.7392 - val_acc: 0.5641\n",
      "Epoch 2/5\n",
      "164/164 [==============================] - 341s - loss: 0.0405 - acc: 0.9893 - val_loss: 2.3495 - val_acc: 0.6333\n",
      "Epoch 3/5\n",
      "164/164 [==============================] - 341s - loss: 0.0246 - acc: 0.9930 - val_loss: 1.7060 - val_acc: 0.6218\n",
      "Epoch 4/5\n",
      "164/164 [==============================] - 341s - loss: 0.0138 - acc: 0.9964 - val_loss: 1.2859 - val_acc: 0.7218\n",
      "Epoch 5/5\n",
      "164/164 [==============================] - 341s - loss: 0.0073 - acc: 0.9977 - val_loss: 2.6110 - val_acc: 0.5994\n",
      "Epoch 1/5\n",
      "164/164 [==============================] - 342s - loss: 0.0079 - acc: 0.9974 - val_loss: 0.4301 - val_acc: 0.8827\n",
      "Epoch 2/5\n",
      "164/164 [==============================] - 340s - loss: 0.0078 - acc: 0.9978 - val_loss: 0.2986 - val_acc: 0.9282\n",
      "Epoch 3/5\n",
      "164/164 [==============================] - 340s - loss: 0.0062 - acc: 0.9984 - val_loss: 0.3472 - val_acc: 0.9122\n",
      "Epoch 4/5\n",
      "164/164 [==============================] - 340s - loss: 0.0068 - acc: 0.9981 - val_loss: 0.3553 - val_acc: 0.9103\n",
      "Epoch 5/5\n",
      "164/164 [==============================] - 339s - loss: 0.0064 - acc: 0.9978 - val_loss: 0.3451 - val_acc: 0.9135\n",
      "Epoch 1/5\n",
      "164/164 [==============================] - 342s - loss: 0.0053 - acc: 0.9988 - val_loss: 0.3824 - val_acc: 0.9083\n",
      "Epoch 2/5\n",
      "164/164 [==============================] - 340s - loss: 0.0051 - acc: 0.9989 - val_loss: 0.3498 - val_acc: 0.9212\n",
      "Epoch 3/5\n",
      "164/164 [==============================] - 340s - loss: 0.0058 - acc: 0.9986 - val_loss: 0.3832 - val_acc: 0.9115\n",
      "Epoch 4/5\n",
      "164/164 [==============================] - 340s - loss: 0.0066 - acc: 0.9981 - val_loss: 0.3532 - val_acc: 0.9109\n",
      "Epoch 5/5\n",
      "164/164 [==============================] - 340s - loss: 0.0055 - acc: 0.9987 - val_loss: 0.3289 - val_acc: 0.9141\n"
     ]
    },
    {
     "data": {
      "text/plain": [
       "<keras.engine.training.Model at 0x7ff419310550>"
      ]
     },
     "execution_count": 6,
     "metadata": {},
     "output_type": "execute_result"
    }
   ],
   "source": [
    "run_a_model(VGG16, (224, 224), 15, model_name_option='_BN_15_SGD')"
   ]
  },
  {
   "cell_type": "code",
   "execution_count": 4,
   "metadata": {
    "collapsed": false
   },
   "outputs": [
    {
     "name": "stdout",
     "output_type": "stream",
     "text": [
      "total layer count 19\n",
      "Found 20864 images belonging to 10 classes.\n",
      "Found 1560 images belonging to 10 classes.\n",
      "Epoch 1/5\n",
      "164/164 [==============================] - 603s - loss: 0.2486 - acc: 0.9283 - val_loss: 2.4089 - val_acc: 0.5801\n",
      "Epoch 2/5\n",
      "164/164 [==============================] - 337s - loss: 0.0393 - acc: 0.9889 - val_loss: 1.0648 - val_acc: 0.6955\n",
      "Epoch 3/5\n",
      "164/164 [==============================] - 337s - loss: 0.0212 - acc: 0.9943 - val_loss: 1.8312 - val_acc: 0.5647\n",
      "Epoch 4/5\n",
      "164/164 [==============================] - 337s - loss: 0.0141 - acc: 0.9958 - val_loss: 1.6120 - val_acc: 0.6782\n",
      "Epoch 5/5\n",
      "164/164 [==============================] - 337s - loss: 0.0099 - acc: 0.9969 - val_loss: 1.5405 - val_acc: 0.7071\n",
      "Epoch 1/5\n",
      "164/164 [==============================] - 338s - loss: 0.0067 - acc: 0.9982 - val_loss: 0.4048 - val_acc: 0.8929\n",
      "Epoch 2/5\n",
      "164/164 [==============================] - 336s - loss: 0.0057 - acc: 0.9987 - val_loss: 0.3907 - val_acc: 0.8942\n",
      "Epoch 3/5\n",
      "164/164 [==============================] - 336s - loss: 0.0058 - acc: 0.9987 - val_loss: 0.3780 - val_acc: 0.8917\n",
      "Epoch 4/5\n",
      "164/164 [==============================] - 336s - loss: 0.0053 - acc: 0.9986 - val_loss: 0.3577 - val_acc: 0.9000\n",
      "Epoch 5/5\n",
      "164/164 [==============================] - 336s - loss: 0.0062 - acc: 0.9984 - val_loss: 0.3837 - val_acc: 0.8949\n",
      "Epoch 1/10\n",
      "164/164 [==============================] - 338s - loss: 0.0051 - acc: 0.9989 - val_loss: 0.4063 - val_acc: 0.8872\n",
      "Epoch 2/10\n",
      "164/164 [==============================] - 336s - loss: 0.0042 - acc: 0.9991 - val_loss: 0.4172 - val_acc: 0.8923\n",
      "Epoch 3/10\n",
      "164/164 [==============================] - 336s - loss: 0.0050 - acc: 0.9990 - val_loss: 0.3804 - val_acc: 0.8904\n",
      "Epoch 4/10\n",
      "164/164 [==============================] - 336s - loss: 0.0065 - acc: 0.9983 - val_loss: 0.3833 - val_acc: 0.8955\n",
      "Epoch 5/10\n",
      "164/164 [==============================] - 336s - loss: 0.0059 - acc: 0.9983 - val_loss: 0.3957 - val_acc: 0.8897\n",
      "Epoch 6/10\n",
      "164/164 [==============================] - 336s - loss: 0.0056 - acc: 0.9984 - val_loss: 0.3936 - val_acc: 0.8897\n",
      "Epoch 7/10\n",
      "164/164 [==============================] - 336s - loss: 0.0050 - acc: 0.9990 - val_loss: 0.3615 - val_acc: 0.8981\n",
      "Epoch 8/10\n",
      "164/164 [==============================] - 336s - loss: 0.0053 - acc: 0.9989 - val_loss: 0.3773 - val_acc: 0.8917\n",
      "Epoch 9/10\n",
      "164/164 [==============================] - 336s - loss: 0.0060 - acc: 0.9987 - val_loss: 0.3875 - val_acc: 0.8923\n",
      "Epoch 10/10\n",
      "164/164 [==============================] - 336s - loss: 0.0057 - acc: 0.9985 - val_loss: 0.3603 - val_acc: 0.8994\n"
     ]
    },
    {
     "data": {
      "text/plain": [
       "<keras.engine.training.Model at 0x7f19caa4e810>"
      ]
     },
     "execution_count": 4,
     "metadata": {},
     "output_type": "execute_result"
    }
   ],
   "source": [
    "run_a_model(VGG16, (224, 224), 15, model_name_option='_BN_15_SGD_20e')"
   ]
  },
  {
   "cell_type": "markdown",
   "metadata": {},
   "source": [
    "基础预测"
   ]
  },
  {
   "cell_type": "code",
   "execution_count": 7,
   "metadata": {
    "collapsed": true
   },
   "outputs": [],
   "source": [
    "from keras.models import load_model\n",
    "model = load_model('models/model_VGG16_BN_15_SGD_20e.h5')"
   ]
  },
  {
   "cell_type": "code",
   "execution_count": 4,
   "metadata": {
    "collapsed": true
   },
   "outputs": [],
   "source": [
    "def get_img(path, image_shape):\n",
    "    img = cv2.imread(path, 0)\n",
    "    resized = cv2.resize(img, image_shape)\n",
    "    return resized\n",
    "\n",
    "def KNN(input_data, predictions, N=5, coef = [0.05, 0.1, 0.15, 0.2, 0.5]):\n",
    "    new_predictions_list = []\n",
    "    for i in tqdm(range(len(input_data))):\n",
    "        distance = np.square(np.subtract(input_data, input_data[i]))\n",
    "        distance = np.sqrt(np.sum(distance, axis=(1, 2)))\n",
    "        N_min_index = np.argsort(distance)[::-1][-N:]\n",
    "        \n",
    "        pred = [ predictions[N_min_index[j]] * coef[j] for j in range(N)]\n",
    "        pred = np.sum(pred, axis=0)\n",
    "        new_predictions_list.append(pred)\n",
    "                \n",
    "    return np.array(new_predictions_list)\n",
    "\n",
    "def make_predictions(MODEL, image_size, batch_size, preprocessing=None):\n",
    "    gen = ImageDataGenerator(preprocessing_function=preprocessing)\n",
    "    path_test_data = 'dataset/to_prediction'\n",
    "    test_generator = gen.flow_from_directory(path_test_data,  image_size, shuffle=False, \n",
    "                                             batch_size=batch_size, class_mode='categorical')\n",
    "    y_predictions = MODEL.predict_generator(test_generator,  steps=test_generator.samples//batch_size+1,  verbose=1)\n",
    "    # y_predictions = y_predictions.clip(min=0.005, max=0.995)\n",
    "    \n",
    "    test_id = list()\n",
    "    for i, file_name in enumerate(test_generator.filenames):\n",
    "        flbase = os.path.basename(file_name)\n",
    "        test_id.append(flbase)       \n",
    "    \n",
    "    return y_predictions, test_id\n",
    "\n",
    "def create_submission(predictions, test_id, tag = \"\"):\n",
    "    result1 = pd.DataFrame(predictions, columns=['c0', 'c1', 'c2', 'c3',\n",
    "                                                 'c4', 'c5', 'c6', 'c7',\n",
    "                                                 'c8', 'c9'])\n",
    "    result1.loc[:, 'img'] = pd.Series(test_id, index=result1.index)\n",
    "    now = datetime.datetime.now()\n",
    "    if not os.path.isdir('subm'):\n",
    "        os.mkdir('subm')\n",
    "    suffix = str(now.strftime(\"%Y-%m-%d-%H-%M\"))\n",
    "    sub_file = os.path.join('subm', 'submission_' + tag + '.csv')\n",
    "    result1.to_csv(sub_file, index=False)"
   ]
  },
  {
   "cell_type": "code",
   "execution_count": 9,
   "metadata": {
    "collapsed": false
   },
   "outputs": [
    {
     "name": "stdout",
     "output_type": "stream",
     "text": [
      "Found 79726 images belonging to 1 classes.\n",
      "623/623 [==============================] - 1756s  \n"
     ]
    }
   ],
   "source": [
    "y_predictions, test_id = make_predictions(model, (224, 224), 128)"
   ]
  },
  {
   "cell_type": "code",
   "execution_count": 22,
   "metadata": {
    "collapsed": true
   },
   "outputs": [],
   "source": [
    "new_predictions = y_predictions.clip(min=0.005, max=0.995)"
   ]
  },
  {
   "cell_type": "code",
   "execution_count": 10,
   "metadata": {
    "collapsed": true
   },
   "outputs": [],
   "source": [
    "create_submission(y_predictions, test_id, tag=\"VGG16_SGD_20e\")"
   ]
  },
  {
   "cell_type": "code",
   "execution_count": null,
   "metadata": {
    "collapsed": true
   },
   "outputs": [],
   "source": []
  }
 ],
 "metadata": {
  "anaconda-cloud": {},
  "kernelspec": {
   "display_name": "Python [conda env:mlnd-dl]",
   "language": "python",
   "name": "conda-env-mlnd-dl-py"
  },
  "language_info": {
   "codemirror_mode": {
    "name": "ipython",
    "version": 2
   },
   "file_extension": ".py",
   "mimetype": "text/x-python",
   "name": "python",
   "nbconvert_exporter": "python",
   "pygments_lexer": "ipython2",
   "version": "2.7.12"
  }
 },
 "nbformat": 4,
 "nbformat_minor": 2
}
