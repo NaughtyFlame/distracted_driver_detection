{
 "cells": [
  {
   "cell_type": "code",
   "execution_count": 1,
   "metadata": {
    "collapsed": true
   },
   "outputs": [],
   "source": [
    "import pandas as pd\n",
    "import numpy as np"
   ]
  },
  {
   "cell_type": "markdown",
   "metadata": {},
   "source": [
    "|submission file           |mode name  |finetune layer| log los|\n",
    "|--------------------------|-----------|--------------|--------|\n",
    "|vgg16.csv                 |vgg16      |      15      |0.434   |\n",
    "|resnet.csv                |resnet50   |      160     |0.438   |\n",
    "|inceptionV3.csv           |inceptionV3|      200     |0.525   |\n",
    "|VGG16_SGD_clip.csv        |vgg16      |      15      |0.40822 |\n",
    "|Inception_200_SGD_clip.csv|inceptionV3|      200     |0.42713 |"
   ]
  },
  {
   "cell_type": "code",
   "execution_count": 5,
   "metadata": {
    "collapsed": true
   },
   "outputs": [],
   "source": [
    "dataset1 = pd.read_csv('subm/resnet.csv')\n",
    "dataset2 = pd.read_csv('subm/vgg16.csv')\n",
    "dataset3 = pd.read_csv('subm/inceptionV3.csv')\n",
    "dataset4 = pd.read_csv('subm/VGG16_SGD_clip.csv')\n",
    "dataset5 = pd.read_csv('subm/Inception_200_SGD_clip.csv')"
   ]
  },
  {
   "cell_type": "code",
   "execution_count": null,
   "metadata": {
    "collapsed": true
   },
   "outputs": [],
   "source": [
    "list_dataset = [dataset1, dataset2, dataset3, dataset4, dataset5]"
   ]
  },
  {
   "cell_type": "code",
   "execution_count": 14,
   "metadata": {
    "collapsed": true
   },
   "outputs": [],
   "source": [
    "col = ['c'+str(i) for i in range(10)]\n",
    "new_subm = (dataset1[col] + dataset2[col]  + dataset3[col] + dataset4[col] + dataset5[col]) * 0.2"
   ]
  },
  {
   "cell_type": "code",
   "execution_count": 15,
   "metadata": {},
   "outputs": [
    {
     "data": {
      "text/html": [
       "<div>\n",
       "<style scoped>\n",
       "    .dataframe tbody tr th:only-of-type {\n",
       "        vertical-align: middle;\n",
       "    }\n",
       "\n",
       "    .dataframe tbody tr th {\n",
       "        vertical-align: top;\n",
       "    }\n",
       "\n",
       "    .dataframe thead th {\n",
       "        text-align: right;\n",
       "    }\n",
       "</style>\n",
       "<table border=\"1\" class=\"dataframe\">\n",
       "  <thead>\n",
       "    <tr style=\"text-align: right;\">\n",
       "      <th></th>\n",
       "      <th>c0</th>\n",
       "      <th>c1</th>\n",
       "      <th>c2</th>\n",
       "      <th>c3</th>\n",
       "      <th>c4</th>\n",
       "      <th>c5</th>\n",
       "      <th>c6</th>\n",
       "      <th>c7</th>\n",
       "      <th>c8</th>\n",
       "      <th>c9</th>\n",
       "    </tr>\n",
       "  </thead>\n",
       "  <tbody>\n",
       "    <tr>\n",
       "      <th>0</th>\n",
       "      <td>0.005</td>\n",
       "      <td>0.005</td>\n",
       "      <td>0.665073</td>\n",
       "      <td>0.005000</td>\n",
       "      <td>0.00500</td>\n",
       "      <td>0.005000</td>\n",
       "      <td>0.005000</td>\n",
       "      <td>0.138481</td>\n",
       "      <td>0.185441</td>\n",
       "      <td>0.013505</td>\n",
       "    </tr>\n",
       "    <tr>\n",
       "      <th>1</th>\n",
       "      <td>0.005</td>\n",
       "      <td>0.005</td>\n",
       "      <td>0.005000</td>\n",
       "      <td>0.005000</td>\n",
       "      <td>0.00500</td>\n",
       "      <td>0.005000</td>\n",
       "      <td>0.995000</td>\n",
       "      <td>0.005000</td>\n",
       "      <td>0.005000</td>\n",
       "      <td>0.005000</td>\n",
       "    </tr>\n",
       "    <tr>\n",
       "      <th>2</th>\n",
       "      <td>0.005</td>\n",
       "      <td>0.005</td>\n",
       "      <td>0.005000</td>\n",
       "      <td>0.006802</td>\n",
       "      <td>0.97044</td>\n",
       "      <td>0.026306</td>\n",
       "      <td>0.005000</td>\n",
       "      <td>0.005000</td>\n",
       "      <td>0.005000</td>\n",
       "      <td>0.005000</td>\n",
       "    </tr>\n",
       "    <tr>\n",
       "      <th>3</th>\n",
       "      <td>0.005</td>\n",
       "      <td>0.995</td>\n",
       "      <td>0.005000</td>\n",
       "      <td>0.005000</td>\n",
       "      <td>0.00500</td>\n",
       "      <td>0.005000</td>\n",
       "      <td>0.005000</td>\n",
       "      <td>0.005000</td>\n",
       "      <td>0.005000</td>\n",
       "      <td>0.005000</td>\n",
       "    </tr>\n",
       "    <tr>\n",
       "      <th>4</th>\n",
       "      <td>0.005</td>\n",
       "      <td>0.005</td>\n",
       "      <td>0.943430</td>\n",
       "      <td>0.005000</td>\n",
       "      <td>0.00500</td>\n",
       "      <td>0.005000</td>\n",
       "      <td>0.010904</td>\n",
       "      <td>0.005000</td>\n",
       "      <td>0.049346</td>\n",
       "      <td>0.005000</td>\n",
       "    </tr>\n",
       "  </tbody>\n",
       "</table>\n",
       "</div>"
      ],
      "text/plain": [
       "      c0     c1        c2        c3       c4        c5        c6        c7  \\\n",
       "0  0.005  0.005  0.665073  0.005000  0.00500  0.005000  0.005000  0.138481   \n",
       "1  0.005  0.005  0.005000  0.005000  0.00500  0.005000  0.995000  0.005000   \n",
       "2  0.005  0.005  0.005000  0.006802  0.97044  0.026306  0.005000  0.005000   \n",
       "3  0.005  0.995  0.005000  0.005000  0.00500  0.005000  0.005000  0.005000   \n",
       "4  0.005  0.005  0.943430  0.005000  0.00500  0.005000  0.010904  0.005000   \n",
       "\n",
       "         c8        c9  \n",
       "0  0.185441  0.013505  \n",
       "1  0.005000  0.005000  \n",
       "2  0.005000  0.005000  \n",
       "3  0.005000  0.005000  \n",
       "4  0.049346  0.005000  "
      ]
     },
     "execution_count": 15,
     "metadata": {},
     "output_type": "execute_result"
    }
   ],
   "source": [
    "new_subm.head()"
   ]
  },
  {
   "cell_type": "code",
   "execution_count": 17,
   "metadata": {
    "collapsed": true
   },
   "outputs": [],
   "source": [
    "new_subm.insert(0, 'img', dataset1['img'])\n",
    "subm_filename = \"merge_4_subm.csv\"\n",
    "new_subm.to_csv(\"subm/\" + subm_filename, index=False)"
   ]
  },
  {
   "cell_type": "code",
   "execution_count": 4,
   "metadata": {
    "collapsed": true
   },
   "outputs": [],
   "source": [
    "def clip_func(input_dataset, file_name):\n",
    "    col = ['c'+str(i) for i in range(10)]\n",
    "    new_subm = input_dataset[col].clip(lower=0.005, upper=0.995)\n",
    "    new_subm.insert(0, 'img', input_dataset['img'])\n",
    "    new_subm.to_csv(\"subm/\" + file_name, index=False)\n",
    "    "
   ]
  },
  {
   "cell_type": "code",
   "execution_count": null,
   "metadata": {
    "collapsed": true
   },
   "outputs": [],
   "source": []
  }
 ],
 "metadata": {
  "anaconda-cloud": {},
  "kernelspec": {
   "display_name": "Python 3",
   "language": "python",
   "name": "python3"
  },
  "language_info": {
   "codemirror_mode": {
    "name": "ipython",
    "version": 3
   },
   "file_extension": ".py",
   "mimetype": "text/x-python",
   "name": "python",
   "nbconvert_exporter": "python",
   "pygments_lexer": "ipython3",
   "version": "3.6.3"
  }
 },
 "nbformat": 4,
 "nbformat_minor": 2
}
