{
 "cells": [
  {
   "cell_type": "code",
   "execution_count": 1,
   "metadata": {},
   "outputs": [
    {
     "name": "stderr",
     "output_type": "stream",
     "text": [
      "Using TensorFlow backend.\n"
     ]
    }
   ],
   "source": [
    "from keras.models import *\n",
    "from keras.layers import *\n",
    "from keras.applications import *\n",
    "from keras.preprocessing.image import *\n",
    "\n",
    "\n",
    "# from pathlib import Path\n",
    "import h5py"
   ]
  },
  {
   "cell_type": "markdown",
   "metadata": {},
   "source": [
    "加载模型权重"
   ]
  },
  {
   "cell_type": "code",
   "execution_count": 2,
   "metadata": {
    "collapsed": true
   },
   "outputs": [],
   "source": [
    "model_weight_resnet50 = \"model_ResNet50.h5\"\n",
    "model_weight_xception = \"model_Xception.h5\"\n",
    "model_weight_inceptionV3 = \"model_InceptionV3.h5\""
   ]
  },
  {
   "cell_type": "markdown",
   "metadata": {},
   "source": [
    "建立辅助函数，提取特征向量"
   ]
  },
  {
   "cell_type": "code",
   "execution_count": 2,
   "metadata": {
    "collapsed": true
   },
   "outputs": [],
   "source": [
    "def write_gap(MODEL,model_weight, image_size, preprocessing=None, filename_option=\"\"):\n",
    "    # parameters\n",
    "    batch_size = 64\n",
    "    # path_dataset = Path('dataset')\n",
    "    path_train = \"dataset/train2\"\n",
    "    path_test = \"dataset/valid2\"\n",
    "    \n",
    "    # set up Model\n",
    "    print('set up Model')\n",
    "    height = image_size[0]\n",
    "    width = image_size[1]\n",
    "    \n",
    "    base_model = MODEL(input_tensor=Input((height, width, 3)),\n",
    "                            weights=None, \n",
    "                            include_top=False, \n",
    "                            input_shape=(height, width, 3)\n",
    "                           )\n",
    "    model = Model(base_model.input, GlobalAveragePooling2D()(base_model.output))\n",
    "    \n",
    "    # load weight\n",
    "    print('load weight')\n",
    "    model.load_weights(\"models/\" + model_weight, by_name=True)\n",
    "    \n",
    "    train_gen = ImageDataGenerator(\n",
    "        rotation_range=10.,\n",
    "        width_shift_range=0.05,\n",
    "        height_shift_range=0.05,\n",
    "        shear_range=0.1,\n",
    "        zoom_range=0.1,\n",
    "        preprocessing_function=preprocessing\n",
    "    )\n",
    "    \n",
    "    test_gen = ImageDataGenerator(\n",
    "        preprocessing_function=preprocessing\n",
    "    )\n",
    "    \n",
    "    print('read dataset')\n",
    "    train_generator = train_gen.flow_from_directory(\n",
    "        path_train, (height, width), shuffle=False, batch_size=batch_size)\n",
    "    test_generator = test_gen.flow_from_directory(\n",
    "        path_test, (height, width), shuffle=False, batch_size=batch_size)\n",
    "    \n",
    "    # predictions\n",
    "    print('make predictions')\n",
    "    steps_train_sample = train_generator.samples // batch_size + 1\n",
    "    steps_test_sample = test_generator.samples // batch_size + 1\n",
    "    train = model.predict_generator(train_generator, steps=steps_train_sample)\n",
    "    test = model.predict_generator(test_generator, steps=steps_test_sample)\n",
    "    \n",
    "    # save features\n",
    "    \n",
    "    print('save features')\n",
    "    path_finetune_feature = 'features/finetune_{}{}.h5'.format(MODEL.__name__, filename_option)\n",
    "    with h5py.File(path_finetune_feature) as h:\n",
    "        h.create_dataset(\"train\", data=train)\n",
    "        h.create_dataset(\"valid\", data=test)\n",
    "        h.create_dataset(\"label\", data=train_generator.classes)\n",
    "        h.create_dataset(\"valid_label\", data=test_generator.classes)\n",
    "    print(\"write_gap {} finsh\".format(Model.__name__))"
   ]
  },
  {
   "cell_type": "code",
   "execution_count": 6,
   "metadata": {},
   "outputs": [
    {
     "name": "stdout",
     "output_type": "stream",
     "text": [
      "set up Model\n",
      "load weight\n",
      "read dataset\n",
      "Found 20864 images belonging to 10 classes.\n",
      "Found 1560 images belonging to 10 classes.\n",
      "make predictions\n",
      "save features\n",
      "write_gap Model finsh\n"
     ]
    }
   ],
   "source": [
    "# ResNet50\n",
    "model_weight_resnet50 = \"model_ResNet50_BN_160.h5\"\n",
    "write_gap(ResNet50, model_weight_resnet50, (224, 224),  filename_option=\"BN_160_2\")"
   ]
  },
  {
   "cell_type": "code",
   "execution_count": 3,
   "metadata": {},
   "outputs": [
    {
     "name": "stdout",
     "output_type": "stream",
     "text": [
      "set up Model\n",
      "load weight\n",
      "read dataset\n",
      "Found 20864 images belonging to 10 classes.\n",
      "Found 1560 images belonging to 10 classes.\n",
      "make predictions\n",
      "save features\n",
      "write_gap Model finsh\n"
     ]
    }
   ],
   "source": [
    "# VGG16\n",
    "model_weight_vgg16 = \"model_VGG16_BN_15_SGD.h5\"\n",
    "write_gap(VGG16, model_weight_vgg16, (224, 224), filename_option=\"BN_15_SGD\")"
   ]
  },
  {
   "cell_type": "code",
   "execution_count": null,
   "metadata": {
    "collapsed": true
   },
   "outputs": [],
   "source": [
    "model_filename = 'model_InceptionV3_BN_200_SGD.h5'\n",
    "write_gap(InceptionV3, model_filename, (299, 299), preprocessing=inception_v3.preprocess_input, filename_option='BN_200_SGD')"
   ]
  },
  {
   "cell_type": "code",
   "execution_count": 8,
   "metadata": {
    "collapsed": true
   },
   "outputs": [],
   "source": [
    "def write_gap_test(MODEL, model_weight, image_size, preprocessing=None, filename_option=\"\"):\n",
    "    batch_size = 64\n",
    "    path_test = \"dataset/to_prediction\"\n",
    "    print('set up Model')\n",
    "    height = image_size[0]\n",
    "    width = image_size[1]\n",
    "    base_model = MODEL(input_tensor=Input((height, width, 3)),\n",
    "                            weights=None, \n",
    "                            include_top=False, \n",
    "                            input_shape=(height, width, 3)\n",
    "                           )\n",
    "    model = Model(base_model.input, GlobalAveragePooling2D()(base_model.output))\n",
    "    # load model\n",
    "    print('load weight')\n",
    "    model.load_weights(\"models/\" + model_weight, by_name=True)\n",
    "    \n",
    "    \n",
    "    gen = ImageDataGenerator(preprocessing_function=preprocessing)\n",
    "    \n",
    "    test_generator = gen.flow_from_directory(\n",
    "            path_test, (height, width), shuffle=False, batch_size=batch_size, class_mode=None)\n",
    "    steps = test_generator.samples//batch_size+1\n",
    "    test = model.predict_generator(test_generator, steps)\n",
    "    path_finetune_feature = 'features/finetune_test_{}{}.h5'.format(MODEL.__name__, filename_option)\n",
    "    with h5py.File(path_finetune_feature) as h:\n",
    "        h.create_dataset(\"test\", data=test)\n",
    "    print(\"write_gap {} successed\".format(Model.__name__))"
   ]
  },
  {
   "cell_type": "code",
   "execution_count": 8,
   "metadata": {},
   "outputs": [
    {
     "name": "stdout",
     "output_type": "stream",
     "text": [
      "set up Model\n",
      "load weight\n",
      "Found 79726 images belonging to 1 classes.\n",
      "write_gap Model successed\n"
     ]
    }
   ],
   "source": [
    "# ResNet\n",
    "model_weight_resnet50 = \"model_ResNet50_BN_160.h5\"\n",
    "write_gap_test(ResNet50, model_weight_resnet50, (224, 224), filename_option = \"_BN160\")"
   ]
  },
  {
   "cell_type": "code",
   "execution_count": 9,
   "metadata": {},
   "outputs": [
    {
     "name": "stdout",
     "output_type": "stream",
     "text": [
      "set up Model\n",
      "load weight\n",
      "Found 79726 images belonging to 1 classes.\n",
      "write_gap Model successed\n"
     ]
    }
   ],
   "source": [
    "# VGG16\n",
    "model_weight_vgg16 = \"model_VGG16_BN_15_20epoche.h5\"\n",
    "write_gap_test(VGG16, model_weight_vgg16, (224, 224), filename_option = \"_BN15\")"
   ]
  },
  {
   "cell_type": "code",
   "execution_count": 9,
   "metadata": {},
   "outputs": [
    {
     "name": "stdout",
     "output_type": "stream",
     "text": [
      "set up Model\n",
      "load weight\n",
      "Found 79726 images belonging to 1 classes.\n",
      "write_gap Model successed\n"
     ]
    }
   ],
   "source": [
    "# VGG16\n",
    "model_weight_vgg16 = \"model_VGG16_BN_15_SGD.h5\"\n",
    "write_gap_test(VGG16, model_weight_vgg16, (224, 224), filename_option = \"_BN15_SGD\")"
   ]
  },
  {
   "cell_type": "code",
   "execution_count": 13,
   "metadata": {},
   "outputs": [
    {
     "name": "stdout",
     "output_type": "stream",
     "text": [
      "set up Model\n",
      "load weight\n",
      "Found 79726 images belonging to 1 classes.\n",
      "write_gap Model successed\n"
     ]
    }
   ],
   "source": [
    "model_weight_inceptionV3 = \"model_InceptionV3_BN_200.h5\"\n",
    "write_gap_test(InceptionV3, model_weight_inceptionV3, (299, 299), preprocessing=inception_v3.preprocess_input, filename_option=\"BN_200\")"
   ]
  },
  {
   "cell_type": "code",
   "execution_count": null,
   "metadata": {
    "collapsed": true
   },
   "outputs": [],
   "source": []
  }
 ],
 "metadata": {
  "anaconda-cloud": {},
  "kernelspec": {
   "display_name": "Python [conda env:mlnd-dl]",
   "language": "python",
   "name": "conda-env-mlnd-dl-py"
  },
  "language_info": {
   "codemirror_mode": {
    "name": "ipython",
    "version": 2
   },
   "file_extension": ".py",
   "mimetype": "text/x-python",
   "name": "python",
   "nbconvert_exporter": "python",
   "pygments_lexer": "ipython2",
   "version": "2.7.12"
  }
 },
 "nbformat": 4,
 "nbformat_minor": 2
}
